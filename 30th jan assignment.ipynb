{
 "cells": [
  {
   "attachments": {},
   "cell_type": "markdown",
   "metadata": {},
   "source": [
    "1) Write a program to accept percentage from the user and display the grade according to the following criteria:\n",
    "\n",
    "Marks                         Grade\t\t\t\t\n",
    ">90                             A\n",
    ">80 and <=90                    B\n",
    ">=60 and <=80                   C\n",
    "below 60                        D\t\t\t\t"
   ]
  },
  {
   "cell_type": "code",
   "execution_count": 3,
   "metadata": {},
   "outputs": [
    {
     "name": "stdout",
     "output_type": "stream",
     "text": [
      "You Got 'C' Grade\n"
     ]
    }
   ],
   "source": [
    "Marks=int(input(\"Enter Your Marks : \"))\n",
    "if Marks>90:\n",
    "    print(\"You Got 'A' Grade\")\n",
    "elif Marks>80 and Marks<=90:\n",
    "    print(\"You Got 'B' Grade\")\n",
    "elif Marks>=60 and Marks<=80:\n",
    "    print(\"You Got 'C' Grade\")\n",
    "else:\n",
    "    print(\"You Got 'D' Grade\")"
   ]
  },
  {
   "attachments": {},
   "cell_type": "markdown",
   "metadata": {},
   "source": [
    "2) Write a program to accept the cost price of a bike and display the road tax to be paid according to the following criteria:\n",
    "\n",
    "Tax                                 Cost Price (in Rs)\n",
    "15%                                 >100000\n",
    "10%                                 >50000 and <=100000\n",
    "5%                                  <=50000"
   ]
  },
  {
   "cell_type": "code",
   "execution_count": 4,
   "metadata": {},
   "outputs": [
    {
     "name": "stdout",
     "output_type": "stream",
     "text": [
      "You Have to Pay 5% Tax\n"
     ]
    }
   ],
   "source": [
    "cost_price = int(input(\"Enter the cost price of the bike: \"))\n",
    "\n",
    "if cost_price > 100000:\n",
    "    print(\"You Have to Pay 15% Tax\")\n",
    "elif cost_price > 50000:\n",
    "    print(\"You Have to Pay 10% Tax\")\n",
    "else:\n",
    "    print(\"You Have to Pay 5% Tax\")"
   ]
  },
  {
   "attachments": {},
   "cell_type": "markdown",
   "metadata": {},
   "source": [
    "3) Accept any city from the user and display monuments of that city.\n",
    "\n",
    "City                            Monument\n",
    "Delhi                           Red Fort\n",
    "Agra                            Taj Mahal\n",
    "Jaipur                          Jal Mahal"
   ]
  },
  {
   "cell_type": "code",
   "execution_count": 5,
   "metadata": {},
   "outputs": [
    {
     "name": "stdout",
     "output_type": "stream",
     "text": [
      "No monument found\n"
     ]
    }
   ],
   "source": [
    "city = input(\"Enter the city name: \")\n",
    "\n",
    "if city == \"Delhi\":\n",
    "    print(\"Red Fort\")\n",
    "elif city == \"Agra\":\n",
    "    print(\"Taj Mahal\")\n",
    "elif city == \"Jaipur\":\n",
    "    print(\"Jal Mahal\")\n",
    "else:\n",
    "    print(\"No monument found\")"
   ]
  },
  {
   "attachments": {},
   "cell_type": "markdown",
   "metadata": {},
   "source": [
    "4) Check how many times a given number can be divided by 3 before it is less than or equal to 10."
   ]
  },
  {
   "cell_type": "code",
   "execution_count": 2,
   "metadata": {},
   "outputs": [
    {
     "name": "stdout",
     "output_type": "stream",
     "text": [
      "The number can be divided by 3 1 times before it is less than or equal to 10\n"
     ]
    }
   ],
   "source": [
    "def divide_by_3(num):\n",
    "    count = 0\n",
    "    while num > 10:\n",
    "        num = num / 3\n",
    "        count += 1\n",
    "    return count\n",
    "\n",
    "num = int(input(\"Enter a number: \"))\n",
    "result = divide_by_3(num)\n",
    "print(\"The number can be divided by 3\", result, \"times before it is less than or equal to 10\")\n"
   ]
  },
  {
   "attachments": {},
   "cell_type": "markdown",
   "metadata": {},
   "source": [
    "5)Why and when to use while loop in Python give a detailed description with example."
   ]
  },
  {
   "attachments": {},
   "cell_type": "markdown",
   "metadata": {},
   "source": [
    "A while loop in Python is used to repeatedly execute a block of code as long as a given condition is true. It continues to execute the code until the condition becomes false."
   ]
  },
  {
   "cell_type": "code",
   "execution_count": null,
   "metadata": {},
   "outputs": [],
   "source": [
    "The syntax for a while loop in Python is as follows:\n",
    "while condition:\n",
    "    # code to be executed"
   ]
  },
  {
   "cell_type": "code",
   "execution_count": null,
   "metadata": {},
   "outputs": [],
   "source": [
    "Here's an example of using a while loop in Python:\n",
    "# while loop with condition\n",
    "while count <= 10:\n",
    "    print(count)\n",
    "    count += 1"
   ]
  },
  {
   "attachments": {},
   "cell_type": "markdown",
   "metadata": {},
   "source": [
    "In this example, the while loop continues to execute until the count is less than or equal to 10. In each iteration, the value of count is incremented by 1, and the updated value is printed.\n",
    "\n",
    "It's important to ensure that the condition in a while loop eventually becomes false, otherwise it will result in an infinite loop.\n"
   ]
  },
  {
   "attachments": {},
   "cell_type": "markdown",
   "metadata": {},
   "source": [
    "6) Use nested while loop to print 3 different pattern.  "
   ]
  },
  {
   "attachments": {},
   "cell_type": "markdown",
   "metadata": {},
   "source": [
    "Here's an example of using nested while loops to print three different patterns:"
   ]
  },
  {
   "cell_type": "code",
   "execution_count": null,
   "metadata": {},
   "outputs": [],
   "source": [
    "# Pattern 1:\n",
    "# 1\n",
    "# 22\n",
    "# 333\n",
    "# 4444\n",
    "\n",
    "rows = 4\n",
    "for i in range(1, rows + 1):\n",
    "    j = 1\n",
    "    while j <= i:\n",
    "        print(i, end=\"\")\n",
    "        j += 1\n",
    "    print(\"\")\n",
    "\n",
    "print(\"\\n\")\n",
    "\n",
    "# Pattern 2:\n",
    "# 4 4 4 4\n",
    "# 3 3 3\n",
    "# 2 2\n",
    "# 1\n",
    "\n",
    "rows = 4\n",
    "for i in range(rows, 0, -1):\n",
    "    j = 1\n",
    "    while j <= i:\n",
    "        print(rows - i + 1, end=\" \")\n",
    "        j += 1\n",
    "    print(\"\")\n",
    "\n",
    "print(\"\\n\")\n",
    "\n",
    "# Pattern 3:\n",
    "# 1\n",
    "# 12\n",
    "# 123\n",
    "# 1234\n",
    "\n",
    "rows = 4\n",
    "for i in range(1, rows + 1):\n",
    "    j = 1\n",
    "    while j <= i:\n",
    "        print(j, end=\"\")\n",
    "        j += 1\n",
    "    print(\"\")\n"
   ]
  },
  {
   "attachments": {},
   "cell_type": "markdown",
   "metadata": {},
   "source": [
    "In the first pattern, the outer loop iterates over the rows (1 to rows) and the inner loop iterates over the columns (1 to i). In each iteration, the value of i is printed.\n",
    "\n",
    "In the second pattern, the outer loop also iterates over the rows (rows to 1) and the inner loop iterates over the columns (1 to i). In each iteration, the value of rows - i + 1 is printed.\n",
    "\n",
    "In the third pattern, the outer loop and the inner loop are the same as the first pattern. In each iteration, the value of j is printed."
   ]
  },
  {
   "attachments": {},
   "cell_type": "markdown",
   "metadata": {},
   "source": [
    "7) Reverse  a while loop to display number from 10 to 1."
   ]
  },
  {
   "cell_type": "code",
   "execution_count": 3,
   "metadata": {},
   "outputs": [
    {
     "name": "stdout",
     "output_type": "stream",
     "text": [
      "10\n",
      "9\n",
      "8\n",
      "7\n",
      "6\n",
      "5\n",
      "4\n",
      "3\n",
      "2\n",
      "1\n"
     ]
    }
   ],
   "source": [
    "count = 10\n",
    "while count >= 1:\n",
    "    print(count)\n",
    "    count -= 1\n"
   ]
  },
  {
   "attachments": {},
   "cell_type": "markdown",
   "metadata": {},
   "source": [
    "8) Reverse  a while loop to display number from 10 to 1."
   ]
  },
  {
   "cell_type": "code",
   "execution_count": null,
   "metadata": {},
   "outputs": [],
   "source": [
    "count = 10\n",
    "while count >= 1:\n",
    "    print(count)\n",
    "    count -= 1\n"
   ]
  }
 ],
 "metadata": {
  "kernelspec": {
   "display_name": "Python 3",
   "language": "python",
   "name": "python3"
  },
  "language_info": {
   "codemirror_mode": {
    "name": "ipython",
    "version": 3
   },
   "file_extension": ".py",
   "mimetype": "text/x-python",
   "name": "python",
   "nbconvert_exporter": "python",
   "pygments_lexer": "ipython3",
   "version": "3.11.0 (main, Oct 24 2022, 18:26:48) [MSC v.1933 64 bit (AMD64)]"
  },
  "orig_nbformat": 4,
  "vscode": {
   "interpreter": {
    "hash": "d417a21d97a2e6b8832d21dc44f5cbe4be6e18325f874a8bb8484565b928cd54"
   }
  }
 },
 "nbformat": 4,
 "nbformat_minor": 2
}
