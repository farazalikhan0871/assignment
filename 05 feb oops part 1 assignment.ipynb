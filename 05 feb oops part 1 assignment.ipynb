{
 "cells": [
  {
   "attachments": {},
   "cell_type": "markdown",
   "metadata": {},
   "source": [
    "Q1. Expalin Class and Object with respect to Object-Oriented Programming.Give a suitable example.\n",
    "\n",
    "A1. In object-oriented programming, a class is a blueprint or a template that defines the properties and behaviors of an object. It is a user-defined data type that encapsulates data and methods that operate on that data.\n",
    "\n",
    "An object, on the other hand, is an instance of a class. It is a real-world entity that has a state and behavior. When we create an object, we are creating a specific instance of a class, with its own set of values for the attributes defined by the class.\n"
   ]
  },
  {
   "attachments": {},
   "cell_type": "markdown",
   "metadata": {},
   "source": [
    "Q2. Name the four pillars of OOPs.\n",
    "\n",
    "A2. \n",
    "The four pillars of object-oriented programming (OOP) are:\n",
    "\n",
    "    Encapsulation: Encapsulation is the mechanism of hiding the implementation details of an object and exposing only the necessary information to the outside world. It allows for information hiding, which helps in achieving better security, maintainability, and modularity of the code.\n",
    "\n",
    "    Abstraction: Abstraction is the process of identifying the essential features of an object and ignoring the irrelevant details. It enables the programmer to focus on the core functionalities of the object and ignore the complexities of the underlying implementation.\n",
    "\n",
    "    Inheritance: Inheritance is the process of creating a new class from an existing class by inheriting its attributes and methods. It allows for code reuse and enables the creation of specialized classes that have the same properties and behaviors as their parent classes.\n",
    "\n",
    "    Polymorphism: Polymorphism is the ability of an object to take on many forms or behaviors. It allows objects of different classes to be treated as if they were objects of the same class, making the code more flexible and reusable. Polymorphism is achieved through method overloading and method overriding."
   ]
  },
  {
   "attachments": {},
   "cell_type": "markdown",
   "metadata": {},
   "source": [
    "Q3. Explain why the __int__() function is used.Give a suitable example.\n",
    "\n",
    "A3. The __init__() function is a special method in Python that is used to initialize the instance variables of an object. It is called when an object is created, and it is used to set the initial state of the object.\n",
    "\n",
    "The __init__() function takes one mandatory argument, self, which refers to the object being created. It can also take additional arguments to set the initial values of the object's attributes.\n",
    "Example:\n",
    "\n",
    "class Person:\n",
    "    def __init__(self, name, age):\n",
    "        self.name = name\n",
    "        self.age = age\n",
    "    \n",
    "    def greet(self):\n",
    "        print(\"Hello, my name is\", self.name, \"and I am\", self.age, \"years old.\")\n",
    "\n",
    "person1 = Person(\"Alice\", 25)\n",
    "person2 = Person(\"Bob\", 30)\n",
    "\n",
    "person1.greet()\n",
    "person2.greet()\n",
    "\n"
   ]
  },
  {
   "attachments": {},
   "cell_type": "markdown",
   "metadata": {},
   "source": [
    "Q4. Why self is used in OOPs?\n",
    "\n",
    "A4. In object-oriented programming (OOP), self is a reference to the current instance of a class. It is a special keyword in Python that is used as the first parameter of instance methods.\n",
    "\n",
    "The self parameter is used to access the instance variables and methods of a class within its methods. When a method is called on an object, the self parameter is automatically set to the object itself. This allows the method to modify the object's state and behavior."
   ]
  },
  {
   "attachments": {},
   "cell_type": "markdown",
   "metadata": {},
   "source": [
    "Q5. What is inheritance? Give an example for each type of inheritance.\n",
    "\n",
    "A5. Inheritance is a mechanism in object-oriented programming (OOP) that allows a new class to be based on an existing class, inheriting its attributes and methods. The new class is called the derived class, and the existing class is called the base class or parent class.\n",
    "\n",
    "There are four types of inheritance in Python: Multiple Inheritance,Hierarchical Inheritance,Multilevel Inheritance, \n"
   ]
  }
 ],
 "metadata": {
  "kernelspec": {
   "display_name": "Python 3",
   "language": "python",
   "name": "python3"
  },
  "language_info": {
   "name": "python",
   "version": "3.11.2"
  },
  "orig_nbformat": 4
 },
 "nbformat": 4,
 "nbformat_minor": 2
}
