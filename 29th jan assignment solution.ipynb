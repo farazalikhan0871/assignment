{
 "cells": [
  {
   "cell_type": "code",
   "execution_count": 6,
   "metadata": {},
   "outputs": [],
   "source": [
    "# 29Th Jan Assignment Solution"
   ]
  },
  {
   "cell_type": "code",
   "execution_count": null,
   "metadata": {},
   "outputs": [],
   "source": [
    "Q1. Who developed Python Programming Language? \n",
    "\n",
    "A1. Guido van Rossum developed Python Programming Language.\n",
    "Q2. Which type of Programming does Python support? \n",
    "A2. Python supports object-oriented, procedural, and functional programming.\n",
    "Q3. Is Python case sensitive when dealing with identifiers? \n",
    "A3. Yes, Python is case sensitive when dealing with identifiers.\n",
    "Q4. What is the correct extension of the Python file? \n",
    "A4. The correct extension of the Python file is \".py\".\n",
    "Q5. Is Python code compiled or interpreted? \n",
    "A5. Python code is interpreted.\n",
    "Q6. Name a few blocks of code used to define in Python language?\n",
    " A6. Blocks of code used to define in Python language are functions, classes, and loops.\n",
    "Q7. State a character used to give single-line comments in Python? \n",
    "A7. \"#\" is used to give single-line comments in Python.\n",
    "Q8. Mention functions which can help us to find the version of python that we are currently working on? \n",
    "A8. The function \"sys.version\" and \"platform.python_version()\" can help find the version of python.\n",
    "Q9. Python supports the creation of anonymous functions at runtime, using a construct called? \n",
    "A9. Anonymous functions in Python are called \"lambda functions\".\n",
    "Q10. What does pip stand for python? \n",
    "A10. \"Pip\" stands for \"Pip Installs Packages\".\n",
    "Q11. Mention a few built-in functions in Python? \n",
    "A11. A few built-in functions in Python are print(), len(), range(), and abs().\n",
    "Q12. What is the maximum possible length of an identifier in Python? \n",
    "A12. The maximum possible length of an identifier in Python is unlimited.\n",
    "Q13. What are the benefits of using Python? \n",
    "A13. Benefits of using Python include readability, easy to learn, versatility, large libraries, and dynamic typing.\n",
    "Q14. How is memory managed in Python? \n",
    "A14. Memory in Python is managed using a garbage collector, which automatically frees up memory that is no longer in use.\n",
    "Q15. How to install Python on Windows and set path variables? \n",
    "A15. To install Python on Windows and set path variables, follow these steps: https://docs.python.org/3/using/windows.html\n",
    "Q16. Is indentation required in python? \n",
    "A16. Yes, indentation is required in Python to define code blocks and block statements.\n"
   ]
  }
 ],
 "metadata": {
  "kernelspec": {
   "display_name": "Python 3",
   "language": "python",
   "name": "python3"
  },
  "language_info": {
   "codemirror_mode": {
    "name": "ipython",
    "version": 3
   },
   "file_extension": ".py",
   "mimetype": "text/x-python",
   "name": "python",
   "nbconvert_exporter": "python",
   "pygments_lexer": "ipython3",
   "version": "3.11.0"
  },
  "orig_nbformat": 4,
  "vscode": {
   "interpreter": {
    "hash": "d417a21d97a2e6b8832d21dc44f5cbe4be6e18325f874a8bb8484565b928cd54"
   }
  }
 },
 "nbformat": 4,
 "nbformat_minor": 2
}
